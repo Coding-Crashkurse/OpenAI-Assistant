{
 "cells": [
  {
   "cell_type": "code",
   "execution_count": 1,
   "metadata": {},
   "outputs": [],
   "source": [
    "import requests\n",
    "from openai import OpenAI\n",
    "from dotenv import load_dotenv, find_dotenv\n",
    "import datetime\n",
    "\n",
    "load_dotenv(find_dotenv())\n",
    "\n",
    "client = OpenAI()\n",
    "\n",
    "def get_opening_hours():\n",
    "    try:\n",
    "        response = requests.get('http://localhost:8000/opening-hours')\n",
    "        if response.status_code == 200:\n",
    "            return response.json()  # Assuming the API returns JSON data\n",
    "        else:\n",
    "            return \"Error: Unable to fetch opening hours.\"\n",
    "    except requests.exceptions.RequestException as e:\n",
    "        return f\"Request failed: {e}\"\n",
    "\n",
    "def how_late():\n",
    "    return datetime.datetime.now().strftime(\"%H:%M:%S\")  # Returns current time in HH:MM:SS format\n",
    "\n",
    "file = client.files.create(\n",
    "    file=open(\"knowledge.txt\", \"rb\"),\n",
    "    purpose='assistants'\n",
    ")"
   ]
  },
  {
   "cell_type": "code",
   "execution_count": 2,
   "metadata": {},
   "outputs": [
    {
     "name": "stdout",
     "output_type": "stream",
     "text": [
      "Assistant(id='asst_6Ek4jHcMW37mP6idM7is0EQN', created_at=1706817404, description='You are great at assisting customers of a bank.', file_ids=['file-vuFVgAjTRqgnnIHroDa6cdtX'], instructions=None, metadata={}, model='gpt-4-turbo-preview', name='Summariser', object='assistant', tools=[ToolCodeInterpreter(type='code_interpreter'), ToolRetrieval(type='retrieval'), ToolFunction(function=FunctionDefinition(name='get_opening_hours', description='Get the opening hours of the bank', parameters={'type': 'object', 'properties': {}, 'required': []}), type='function'), ToolFunction(function=FunctionDefinition(name='how_late', description='Get the current time', parameters={'type': 'object', 'properties': {}, 'required': []}), type='function')])\n"
     ]
    }
   ],
   "source": [
    "assistant = client.beta.assistants.create(\n",
    "    name=\"Summariser\",\n",
    "    description=\"You are great at assisting customers of a bank.\",\n",
    "    model=\"gpt-4-turbo-preview\",\n",
    "    tools=[\n",
    "        {\"type\": \"code_interpreter\"},\n",
    "        {\"type\": \"retrieval\"},\n",
    "        {\n",
    "            \"type\": \"function\",\n",
    "            \"function\": {\n",
    "                \"name\": \"get_opening_hours\",\n",
    "                \"description\": \"Get the opening hours of the bank\",\n",
    "                \"parameters\": {\n",
    "                    \"type\": \"object\",\n",
    "                    \"properties\": {},\n",
    "                    \"required\": []\n",
    "                }\n",
    "            }\n",
    "        },\n",
    "        {\n",
    "            \"type\": \"function\",\n",
    "            \"function\": {\n",
    "                \"name\": \"how_late\",\n",
    "                \"description\": \"Get the current time\",\n",
    "                \"parameters\": {\n",
    "                    \"type\": \"object\",\n",
    "                    \"properties\": {},\n",
    "                    \"required\": []\n",
    "                }\n",
    "            }\n",
    "        }\n",
    "    ],\n",
    "    file_ids=[file.id]\n",
    ")\n",
    "print(assistant)"
   ]
  },
  {
   "cell_type": "code",
   "execution_count": 3,
   "metadata": {},
   "outputs": [],
   "source": [
    "thread = client.beta.threads.create()"
   ]
  },
  {
   "cell_type": "code",
   "execution_count": 4,
   "metadata": {},
   "outputs": [],
   "source": [
    "message = client.beta.threads.messages.create(\n",
    "    thread_id=thread.id,\n",
    "    role=\"user\",\n",
    "    content=\"Wie viel kostet ein Darlehen pro Jahr?\"\n",
    ")"
   ]
  },
  {
   "cell_type": "code",
   "execution_count": 5,
   "metadata": {},
   "outputs": [],
   "source": [
    "run = client.beta.threads.runs.create(\n",
    "  thread_id=thread.id,\n",
    "  assistant_id=assistant.id,\n",
    "  instructions=\"Please address the user as Jane Doe. The user has a premium account.\",\n",
    "  tools=[{\"type\": \"code_interpreter\"}, {\"type\": \"retrieval\"}] # allow to override assistant tools\n",
    ")"
   ]
  },
  {
   "cell_type": "code",
   "execution_count": 6,
   "metadata": {},
   "outputs": [
    {
     "name": "stdout",
     "output_type": "stream",
     "text": [
      "Run(id='run_tD5vsmPfZMRHq7x0A4wa8yXs', assistant_id='asst_6Ek4jHcMW37mP6idM7is0EQN', cancelled_at=None, completed_at=None, created_at=1706817405, expires_at=1706818005, failed_at=None, file_ids=['file-vuFVgAjTRqgnnIHroDa6cdtX'], instructions='Please address the user as Jane Doe. The user has a premium account.', last_error=None, metadata={}, model='gpt-4-turbo-preview', object='thread.run', required_action=None, started_at=1706817406, status='in_progress', thread_id='thread_vp9D5mLGSI2h0Eqw5wTqZ0wX', tools=[ToolAssistantToolsCode(type='code_interpreter'), ToolAssistantToolsRetrieval(type='retrieval')], usage=None)\n"
     ]
    }
   ],
   "source": [
    "run = client.beta.threads.runs.retrieve(\n",
    "  thread_id=thread.id,\n",
    "  run_id=run.id\n",
    ")\n",
    "print(run)"
   ]
  },
  {
   "cell_type": "markdown",
   "metadata": {},
   "source": [
    "Polling is required the get the current status"
   ]
  },
  {
   "cell_type": "code",
   "execution_count": 7,
   "metadata": {},
   "outputs": [],
   "source": [
    "import time\n",
    "\n",
    "def get_run_status(client, thread_id, run_id):\n",
    "    try:\n",
    "        run = client.beta.threads.runs.retrieve(thread_id=thread_id, run_id=run_id)\n",
    "        return {\"status\": run.status, \"run\": run}\n",
    "    except Exception as e:\n",
    "        print(f\"Error retrieving run status: {e}\")\n",
    "        return {\"status\": None, \"run\": None}\n",
    "\n",
    "def poll_run_status(client, thread_id, run_id):\n",
    "    while True:\n",
    "        result = get_run_status(client, thread_id, run_id)\n",
    "        status = result[\"status\"]\n",
    "        run = result[\"run\"]\n",
    "        if status in ['completed', 'cancelled', 'failed', 'requires_action']:\n",
    "            print(f\"Run has finished or requires action with status: {status}\")\n",
    "            break\n",
    "        else:\n",
    "            print(\"Run is not finished yet...\")\n",
    "            time.sleep(2)\n",
    "\n",
    "    return {\"status\": status, \"run\": run}"
   ]
  },
  {
   "cell_type": "code",
   "execution_count": 8,
   "metadata": {},
   "outputs": [
    {
     "name": "stdout",
     "output_type": "stream",
     "text": [
      "Run is not finished yet...\n",
      "Run is not finished yet...\n",
      "Run is not finished yet...\n",
      "Run is not finished yet...\n",
      "Run is not finished yet...\n",
      "Run is not finished yet...\n",
      "Run is not finished yet...\n",
      "Run is not finished yet...\n",
      "Run is not finished yet...\n",
      "Run is not finished yet...\n",
      "Run is not finished yet...\n",
      "Run has finished or requires action with status: completed\n"
     ]
    }
   ],
   "source": [
    "result = poll_run_status(client=client, thread_id=thread.id, run_id=run.id)"
   ]
  },
  {
   "cell_type": "code",
   "execution_count": 9,
   "metadata": {},
   "outputs": [
    {
     "name": "stdout",
     "output_type": "stream",
     "text": [
      "Run(id='run_tD5vsmPfZMRHq7x0A4wa8yXs', assistant_id='asst_6Ek4jHcMW37mP6idM7is0EQN', cancelled_at=None, completed_at=1706817429, created_at=1706817405, expires_at=None, failed_at=None, file_ids=['file-vuFVgAjTRqgnnIHroDa6cdtX'], instructions='Please address the user as Jane Doe. The user has a premium account.', last_error=None, metadata={}, model='gpt-4-turbo-preview', object='thread.run', required_action=None, started_at=1706817406, status='completed', thread_id='thread_vp9D5mLGSI2h0Eqw5wTqZ0wX', tools=[ToolAssistantToolsCode(type='code_interpreter'), ToolAssistantToolsRetrieval(type='retrieval')], usage=Usage(completion_tokens=325, prompt_tokens=1461, total_tokens=1786))\n"
     ]
    }
   ],
   "source": [
    "print(result[\"run\"])"
   ]
  },
  {
   "cell_type": "code",
   "execution_count": 10,
   "metadata": {},
   "outputs": [
    {
     "name": "stdout",
     "output_type": "stream",
     "text": [
      "[ThreadMessage(id='msg_OkvJleYBdqAxsAWx1Eh9y1cP', assistant_id='asst_6Ek4jHcMW37mP6idM7is0EQN', content=[MessageContentText(text=Text(annotations=[], value='Die Kosten eines Darlehens pro Jahr variieren je nach Art des Darlehens. Hier sind einige Beispiele aus dem Dokument:\\n\\n- **Persönliche Darlehen**: Ab 4,5% effektiver Jahreszins (APR).\\n- **Hypothekenoptionen**:\\n  - **30-jährige Festhypothek**: Ab 3,75%.\\n  - **Programme für Erstkäufer**: Diese bieten niedrigere Anzahlungen und Hilfe bei Abschlusskosten. Der genaue APR wird nicht erwähnt.\\n  - **Jumbo-Hypotheken**: Maßgeschneiderte Zinssätze und Konditionen für hochwertige Immobilien. Auch hier wird der genaue APR nicht angegeben.\\n- **Gewerbliche Kredite**: Wettbewerbsfähige Zinssätze und flexible Bedingungen. der genaue APR wird nicht angegeben.\\n- **Kredit-Aufbau-Programm**:\\n  - **Gesicherte Kreditkarte**: Bietet eine niedrige Jahresgebühr und einen wettbewerbsfähigen APR. Der genaue Wert wird jedoch nicht angegeben.\\n\\nDaher variiert der jährliche Kosten eines Darlehens je nach Typ und den spezifischen Konditionen des Darlehens.'), type='text')], created_at=1706817410, file_ids=[], metadata={}, object='thread.message', role='assistant', run_id='run_tD5vsmPfZMRHq7x0A4wa8yXs', thread_id='thread_vp9D5mLGSI2h0Eqw5wTqZ0wX'), ThreadMessage(id='msg_liID2w3d8KX35NkohDU3dZOW', assistant_id=None, content=[MessageContentText(text=Text(annotations=[], value='Wie viel kostet ein Darlehen pro Jahr?'), type='text')], created_at=1706817405, file_ids=[], metadata={}, object='thread.message', role='user', run_id=None, thread_id='thread_vp9D5mLGSI2h0Eqw5wTqZ0wX')]\n"
     ]
    }
   ],
   "source": [
    "messages = client.beta.threads.messages.list(\n",
    "  thread_id=thread.id\n",
    ")\n",
    "print(messages.data)"
   ]
  },
  {
   "cell_type": "code",
   "execution_count": 11,
   "metadata": {},
   "outputs": [
    {
     "name": "stdout",
     "output_type": "stream",
     "text": [
      "Message: Die Kosten eines Darlehens pro Jahr variieren je nach Art des Darlehens. Hier sind einige Beispiele aus dem Dokument:\n",
      "\n",
      "- **Persönliche Darlehen**: Ab 4,5% effektiver Jahreszins (APR).\n",
      "- **Hypothekenoptionen**:\n",
      "  - **30-jährige Festhypothek**: Ab 3,75%.\n",
      "  - **Programme für Erstkäufer**: Diese bieten niedrigere Anzahlungen und Hilfe bei Abschlusskosten. Der genaue APR wird nicht erwähnt.\n",
      "  - **Jumbo-Hypotheken**: Maßgeschneiderte Zinssätze und Konditionen für hochwertige Immobilien. Auch hier wird der genaue APR nicht angegeben.\n",
      "- **Gewerbliche Kredite**: Wettbewerbsfähige Zinssätze und flexible Bedingungen. der genaue APR wird nicht angegeben.\n",
      "- **Kredit-Aufbau-Programm**:\n",
      "  - **Gesicherte Kreditkarte**: Bietet eine niedrige Jahresgebühr und einen wettbewerbsfähigen APR. Der genaue Wert wird jedoch nicht angegeben.\n",
      "\n",
      "Daher variiert der jährliche Kosten eines Darlehens je nach Typ und den spezifischen Konditionen des Darlehens.\n",
      "Message: Wie viel kostet ein Darlehen pro Jahr?\n"
     ]
    }
   ],
   "source": [
    "for message in messages.data:\n",
    "    if message.content and message.content[0].text:\n",
    "        print(f\"Message: {message.content[0].text.value}\")"
   ]
  },
  {
   "cell_type": "markdown",
   "metadata": {},
   "source": [
    "### Function usage"
   ]
  },
  {
   "cell_type": "code",
   "execution_count": 12,
   "metadata": {},
   "outputs": [],
   "source": [
    "message = client.beta.threads.messages.create(\n",
    "    thread_id=thread.id, role=\"user\", content=\"Wie spät ist es?\"\n",
    ")"
   ]
  },
  {
   "cell_type": "code",
   "execution_count": 13,
   "metadata": {},
   "outputs": [],
   "source": [
    "run = client.beta.threads.runs.create(\n",
    "  thread_id=thread.id,\n",
    "  assistant_id=assistant.id,\n",
    "  instructions=\"Please address the user as Jane Doe. The user has a premium account.\",\n",
    ")"
   ]
  },
  {
   "cell_type": "code",
   "execution_count": 14,
   "metadata": {},
   "outputs": [],
   "source": [
    "run = client.beta.threads.runs.retrieve(thread_id=thread.id, run_id=run.id)"
   ]
  },
  {
   "cell_type": "code",
   "execution_count": 15,
   "metadata": {},
   "outputs": [
    {
     "name": "stdout",
     "output_type": "stream",
     "text": [
      "Run is not finished yet...\n",
      "Run has finished or requires action with status: requires_action\n"
     ]
    }
   ],
   "source": [
    "result = poll_run_status(client=client, thread_id=thread.id, run_id=run.id)"
   ]
  },
  {
   "cell_type": "code",
   "execution_count": 16,
   "metadata": {},
   "outputs": [
    {
     "ename": "AttributeError",
     "evalue": "'NoneType' object has no attribute 'submit_tool_outputs'",
     "output_type": "error",
     "traceback": [
      "\u001b[1;31m---------------------------------------------------------------------------\u001b[0m",
      "\u001b[1;31mAttributeError\u001b[0m                            Traceback (most recent call last)",
      "Cell \u001b[1;32mIn[16], line 1\u001b[0m\n\u001b[1;32m----> 1\u001b[0m \u001b[43mrun\u001b[49m\u001b[38;5;241;43m.\u001b[39;49m\u001b[43mrequired_action\u001b[49m\u001b[38;5;241;43m.\u001b[39;49m\u001b[43msubmit_tool_outputs\u001b[49m\u001b[38;5;241m.\u001b[39mtool_calls\n",
      "\u001b[1;31mAttributeError\u001b[0m: 'NoneType' object has no attribute 'submit_tool_outputs'"
     ]
    }
   ],
   "source": [
    "run.required_action.submit_tool_outputs.tool_calls"
   ]
  },
  {
   "cell_type": "markdown",
   "metadata": {},
   "source": [
    "Now we call our tool"
   ]
  },
  {
   "cell_type": "code",
   "execution_count": null,
   "metadata": {},
   "outputs": [],
   "source": [
    "messages = client.beta.threads.messages.list(\n",
    "  thread_id=thread.id\n",
    ")"
   ]
  },
  {
   "cell_type": "code",
   "execution_count": null,
   "metadata": {},
   "outputs": [],
   "source": [
    "messages"
   ]
  },
  {
   "cell_type": "markdown",
   "metadata": {},
   "source": [
    "### Delete everthing after using it!"
   ]
  },
  {
   "cell_type": "code",
   "execution_count": null,
   "metadata": {},
   "outputs": [],
   "source": [
    "# deleted_assistant_file = client.beta.assistants.files.delete(\n",
    "#     assistant_id=assistant.id,\n",
    "#     file_id=file.id\n",
    "# )\n",
    "# print(deleted_assistant_file)\n",
    "\n",
    "# response = client.beta.assistants.delete(assistant.id)\n",
    "# print(response)"
   ]
  }
 ],
 "metadata": {
  "kernelspec": {
   "display_name": ".venv",
   "language": "python",
   "name": "python3"
  },
  "language_info": {
   "codemirror_mode": {
    "name": "ipython",
    "version": 3
   },
   "file_extension": ".py",
   "mimetype": "text/x-python",
   "name": "python",
   "nbconvert_exporter": "python",
   "pygments_lexer": "ipython3",
   "version": "3.11.0"
  }
 },
 "nbformat": 4,
 "nbformat_minor": 2
}
