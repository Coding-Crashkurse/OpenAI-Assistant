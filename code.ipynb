{
 "cells": [
  {
   "cell_type": "code",
   "execution_count": null,
   "metadata": {},
   "outputs": [],
   "source": [
    "import requests\n",
    "from openai import OpenAI\n",
    "from dotenv import load_dotenv, find_dotenv\n",
    "import datetime\n",
    "\n",
    "load_dotenv(find_dotenv())\n",
    "\n",
    "client = OpenAI()\n",
    "\n",
    "def get_opening_hours():\n",
    "    try:\n",
    "        response = requests.get('http://localhost:8000/opening-hours')\n",
    "        if response.status_code == 200:\n",
    "            return response.json()\n",
    "        else:\n",
    "            return \"Error: Unable to fetch opening hours.\"\n",
    "    except requests.exceptions.RequestException as e:\n",
    "        return f\"Request failed: {e}\"\n",
    "\n",
    "def how_late():\n",
    "    return datetime.datetime.now().strftime(\"%H:%M:%S\")\n",
    "\n",
    "file = client.files.create(\n",
    "    file=open(\"knowledge.txt\", \"rb\"),\n",
    "    purpose='assistants'\n",
    ")"
   ]
  },
  {
   "cell_type": "code",
   "execution_count": null,
   "metadata": {},
   "outputs": [],
   "source": [
    "assistant = client.beta.assistants.create(\n",
    "    name=\"Summariser\",\n",
    "    description=\"You are great at assisting customers of a bank.\",\n",
    "    model=\"gpt-4-turbo-preview\",\n",
    "    tools=[\n",
    "        {\"type\": \"code_interpreter\"},\n",
    "        {\"type\": \"retrieval\"},\n",
    "        {\n",
    "            \"type\": \"function\",\n",
    "            \"function\": {\n",
    "                \"name\": \"get_opening_hours\",\n",
    "                \"description\": \"Get the opening hours of the bank\",\n",
    "                \"parameters\": {\n",
    "                    \"type\": \"object\",\n",
    "                    \"properties\": {},\n",
    "                    \"required\": []\n",
    "                }\n",
    "            }\n",
    "        },\n",
    "        {\n",
    "            \"type\": \"function\",\n",
    "            \"function\": {\n",
    "                \"name\": \"how_late\",\n",
    "                \"description\": \"Get the current time\",\n",
    "                \"parameters\": {\n",
    "                    \"type\": \"object\",\n",
    "                    \"properties\": {},\n",
    "                    \"required\": []\n",
    "                }\n",
    "            }\n",
    "        }\n",
    "    ],\n",
    "    file_ids=[file.id]\n",
    ")\n",
    "print(assistant)"
   ]
  },
  {
   "cell_type": "code",
   "execution_count": null,
   "metadata": {},
   "outputs": [],
   "source": [
    "thread = client.beta.threads.create()"
   ]
  },
  {
   "cell_type": "code",
   "execution_count": null,
   "metadata": {},
   "outputs": [],
   "source": [
    "message = client.beta.threads.messages.create(\n",
    "    thread_id=thread.id,\n",
    "    role=\"user\",\n",
    "    content=\"How much does a loan cost per year?\"\n",
    ")"
   ]
  },
  {
   "cell_type": "code",
   "execution_count": null,
   "metadata": {},
   "outputs": [],
   "source": [
    "run = client.beta.threads.runs.create(\n",
    "  thread_id=thread.id,\n",
    "  assistant_id=assistant.id,\n",
    "  instructions=\"Please address the user as Jane Doe. The user has a premium account.\"\n",
    ")"
   ]
  },
  {
   "cell_type": "code",
   "execution_count": null,
   "metadata": {},
   "outputs": [],
   "source": [
    "run = client.beta.threads.runs.retrieve(\n",
    "  thread_id=thread.id,\n",
    "  run_id=run.id\n",
    ")\n",
    "print(run.status)"
   ]
  },
  {
   "cell_type": "markdown",
   "metadata": {},
   "source": [
    "Polling is required the get the current status"
   ]
  },
  {
   "cell_type": "code",
   "execution_count": null,
   "metadata": {},
   "outputs": [],
   "source": [
    "import time\n",
    "\n",
    "def get_run_status(client, thread_id, run_id):\n",
    "    try:\n",
    "        run = client.beta.threads.runs.retrieve(thread_id=thread_id, run_id=run_id)\n",
    "        return {\"status\": run.status, \"run\": run}\n",
    "    except Exception as e:\n",
    "        print(f\"Error retrieving run status: {e}\")\n",
    "        return {\"status\": None, \"run\": None}\n",
    "\n",
    "def poll_run_status(client, thread_id, run_id):\n",
    "    while True:\n",
    "        result = get_run_status(client, thread_id, run_id)\n",
    "        status = result[\"status\"]\n",
    "        run = result[\"run\"]\n",
    "        if status in ['completed', 'cancelled', 'failed', 'requires_action']:\n",
    "            print(f\"Run has finished or requires action with status: {status}\")\n",
    "            break\n",
    "        else:\n",
    "            print(\"Run is not finished yet...\")\n",
    "            time.sleep(2)\n",
    "\n",
    "    return {\"status\": status, \"run\": run}"
   ]
  },
  {
   "cell_type": "code",
   "execution_count": null,
   "metadata": {},
   "outputs": [],
   "source": [
    "result = poll_run_status(client=client, thread_id=thread.id, run_id=run.id)"
   ]
  },
  {
   "cell_type": "code",
   "execution_count": null,
   "metadata": {},
   "outputs": [],
   "source": [
    "print(result[\"run\"])"
   ]
  },
  {
   "cell_type": "code",
   "execution_count": null,
   "metadata": {},
   "outputs": [],
   "source": [
    "messages = client.beta.threads.messages.list(\n",
    "  thread_id=thread.id\n",
    ")\n",
    "print(messages.data)"
   ]
  },
  {
   "cell_type": "code",
   "execution_count": null,
   "metadata": {},
   "outputs": [],
   "source": [
    "for message in messages.data:\n",
    "    if message.content and message.content[0].text:\n",
    "        print(f\"Message: {message.content[0].text.value}\")"
   ]
  },
  {
   "cell_type": "markdown",
   "metadata": {},
   "source": [
    "### Function usage"
   ]
  },
  {
   "cell_type": "code",
   "execution_count": null,
   "metadata": {},
   "outputs": [],
   "source": [
    "message = client.beta.threads.messages.create(\n",
    "    thread_id=thread.id, role=\"user\", content=\"How late is it?\"\n",
    ")"
   ]
  },
  {
   "cell_type": "code",
   "execution_count": null,
   "metadata": {},
   "outputs": [],
   "source": [
    "run = client.beta.threads.runs.create(\n",
    "  thread_id=thread.id,\n",
    "  assistant_id=assistant.id,\n",
    "  instructions=\"Please address the user as Jane Doe. The user has a premium account.\",\n",
    ")"
   ]
  },
  {
   "cell_type": "code",
   "execution_count": null,
   "metadata": {},
   "outputs": [],
   "source": [
    "run.status"
   ]
  },
  {
   "cell_type": "code",
   "execution_count": null,
   "metadata": {},
   "outputs": [],
   "source": [
    "run = client.beta.threads.runs.retrieve(thread_id=thread.id, run_id=run.id)"
   ]
  },
  {
   "cell_type": "code",
   "execution_count": null,
   "metadata": {},
   "outputs": [],
   "source": [
    "run.required_action.submit_tool_outputs.tool_calls"
   ]
  },
  {
   "cell_type": "code",
   "execution_count": null,
   "metadata": {},
   "outputs": [],
   "source": [
    "for tool_call in run.required_action.submit_tool_outputs.tool_calls:\n",
    "    tool_call_id = tool_call.id\n",
    "    function_name = tool_call.function.name\n",
    "    print(f\"Executing function: {function_name}\")\n",
    "\n",
    "    if function_name == \"get_opening_hours\":\n",
    "        output = get_opening_hours()\n",
    "    elif function_name == \"how_late\":\n",
    "        output = how_late()\n",
    "    else:\n",
    "        output = \"Function not recognized\"\n",
    "        print(\"Error: Function not recognized.\")\n",
    "    print(f\"Output from function call:  {output}\")\n",
    "\n",
    "    client.beta.threads.runs.submit_tool_outputs(\n",
    "    thread_id=thread.id,\n",
    "    run_id=run.id,\n",
    "    tool_outputs=[\n",
    "        {\"tool_call_id\": tool_call_id, \"output\": output},\n",
    "    ])"
   ]
  },
  {
   "cell_type": "code",
   "execution_count": null,
   "metadata": {},
   "outputs": [],
   "source": [
    "print(output)"
   ]
  },
  {
   "cell_type": "code",
   "execution_count": null,
   "metadata": {},
   "outputs": [],
   "source": [
    "run = client.beta.threads.runs.retrieve(thread_id=thread.id, run_id=run.id)"
   ]
  },
  {
   "cell_type": "code",
   "execution_count": null,
   "metadata": {},
   "outputs": [],
   "source": [
    "messages = client.beta.threads.messages.list(\n",
    "  thread_id=thread.id\n",
    ")"
   ]
  },
  {
   "cell_type": "code",
   "execution_count": null,
   "metadata": {},
   "outputs": [],
   "source": [
    "for message in messages.data:\n",
    "    if message.content and message.content[0].text:\n",
    "        print(f\"Message: {message.content[0].text.value}\")"
   ]
  },
  {
   "cell_type": "markdown",
   "metadata": {},
   "source": [
    "### Delete everthing after using it!"
   ]
  },
  {
   "cell_type": "code",
   "execution_count": null,
   "metadata": {},
   "outputs": [],
   "source": [
    "deleted_assistant_file = client.beta.assistants.files.delete(\n",
    "    assistant_id=assistant.id,\n",
    "    file_id=file.id\n",
    ")\n",
    "print(deleted_assistant_file)\n",
    "response = client.beta.assistants.delete(assistant.id)\n",
    "print(response)"
   ]
  }
 ],
 "metadata": {
  "kernelspec": {
   "display_name": ".venv",
   "language": "python",
   "name": "python3"
  },
  "language_info": {
   "codemirror_mode": {
    "name": "ipython",
    "version": 3
   },
   "file_extension": ".py",
   "mimetype": "text/x-python",
   "name": "python",
   "nbconvert_exporter": "python",
   "pygments_lexer": "ipython3",
   "version": "3.11.0"
  }
 },
 "nbformat": 4,
 "nbformat_minor": 2
}
