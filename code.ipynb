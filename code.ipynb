{
 "cells": [
  {
   "cell_type": "code",
   "execution_count": 1,
   "metadata": {},
   "outputs": [],
   "source": [
    "import requests\n",
    "from openai import OpenAI\n",
    "from dotenv import load_dotenv, find_dotenv\n",
    "import datetime\n",
    "\n",
    "load_dotenv(find_dotenv())\n",
    "\n",
    "client = OpenAI()\n",
    "\n",
    "def get_opening_hours():\n",
    "    try:\n",
    "        response = requests.get('http://localhost:8000/opening-hours')\n",
    "        if response.status_code == 200:\n",
    "            return response.json()  # Assuming the API returns JSON data\n",
    "        else:\n",
    "            return \"Error: Unable to fetch opening hours.\"\n",
    "    except requests.exceptions.RequestException as e:\n",
    "        return f\"Request failed: {e}\"\n",
    "\n",
    "def how_late():\n",
    "    return datetime.datetime.now().strftime(\"%H:%M:%S\")  # Returns current time in HH:MM:SS format\n",
    "\n",
    "file = client.files.create(\n",
    "    file=open(\"knowledge.txt\", \"rb\"),\n",
    "    purpose='assistants'\n",
    ")"
   ]
  },
  {
   "cell_type": "code",
   "execution_count": 2,
   "metadata": {},
   "outputs": [
    {
     "name": "stdout",
     "output_type": "stream",
     "text": [
      "Assistant(id='asst_ePaIeDp60QcWt20dkKAfI2k4', created_at=1706880983, description='You are great at assisting customers of a bank.', file_ids=['file-sh7beN6SYVBZTRvw6iVMt11x'], instructions=None, metadata={}, model='gpt-4-turbo-preview', name='Summariser', object='assistant', tools=[ToolCodeInterpreter(type='code_interpreter'), ToolRetrieval(type='retrieval'), ToolFunction(function=FunctionDefinition(name='get_opening_hours', description='Get the opening hours of the bank', parameters={'type': 'object', 'properties': {}, 'required': []}), type='function'), ToolFunction(function=FunctionDefinition(name='how_late', description='Get the current time', parameters={'type': 'object', 'properties': {}, 'required': []}), type='function')])\n"
     ]
    }
   ],
   "source": [
    "assistant = client.beta.assistants.create(\n",
    "    name=\"Summariser\",\n",
    "    description=\"You are great at assisting customers of a bank.\",\n",
    "    model=\"gpt-4-turbo-preview\",\n",
    "    tools=[\n",
    "        {\"type\": \"code_interpreter\"},\n",
    "        {\"type\": \"retrieval\"},\n",
    "        {\n",
    "            \"type\": \"function\",\n",
    "            \"function\": {\n",
    "                \"name\": \"get_opening_hours\",\n",
    "                \"description\": \"Get the opening hours of the bank\",\n",
    "                \"parameters\": {\n",
    "                    \"type\": \"object\",\n",
    "                    \"properties\": {},\n",
    "                    \"required\": []\n",
    "                }\n",
    "            }\n",
    "        },\n",
    "        {\n",
    "            \"type\": \"function\",\n",
    "            \"function\": {\n",
    "                \"name\": \"how_late\",\n",
    "                \"description\": \"Get the current time\",\n",
    "                \"parameters\": {\n",
    "                    \"type\": \"object\",\n",
    "                    \"properties\": {},\n",
    "                    \"required\": []\n",
    "                }\n",
    "            }\n",
    "        }\n",
    "    ],\n",
    "    file_ids=[file.id]\n",
    ")\n",
    "print(assistant)"
   ]
  },
  {
   "cell_type": "code",
   "execution_count": 3,
   "metadata": {},
   "outputs": [],
   "source": [
    "thread = client.beta.threads.create()"
   ]
  },
  {
   "cell_type": "code",
   "execution_count": 4,
   "metadata": {},
   "outputs": [],
   "source": [
    "message = client.beta.threads.messages.create(\n",
    "    thread_id=thread.id,\n",
    "    role=\"user\",\n",
    "    content=\"Wie viel kostet ein Darlehen pro Jahr?\"\n",
    ")"
   ]
  },
  {
   "cell_type": "code",
   "execution_count": 5,
   "metadata": {},
   "outputs": [],
   "source": [
    "run = client.beta.threads.runs.create(\n",
    "  thread_id=thread.id,\n",
    "  assistant_id=assistant.id,\n",
    "  instructions=\"Please address the user as Jane Doe. The user has a premium account.\",\n",
    "  tools=[{\"type\": \"code_interpreter\"}, {\"type\": \"retrieval\"}] # allow to override assistant tools\n",
    ")"
   ]
  },
  {
   "cell_type": "code",
   "execution_count": 6,
   "metadata": {},
   "outputs": [
    {
     "name": "stdout",
     "output_type": "stream",
     "text": [
      "in_progress\n"
     ]
    }
   ],
   "source": [
    "run = client.beta.threads.runs.retrieve(\n",
    "  thread_id=thread.id,\n",
    "  run_id=run.id\n",
    ")\n",
    "print(run.status)"
   ]
  },
  {
   "cell_type": "markdown",
   "metadata": {},
   "source": [
    "Polling is required the get the current status"
   ]
  },
  {
   "cell_type": "code",
   "execution_count": 7,
   "metadata": {},
   "outputs": [],
   "source": [
    "import time\n",
    "\n",
    "def get_run_status(client, thread_id, run_id):\n",
    "    try:\n",
    "        run = client.beta.threads.runs.retrieve(thread_id=thread_id, run_id=run_id)\n",
    "        return {\"status\": run.status, \"run\": run}\n",
    "    except Exception as e:\n",
    "        print(f\"Error retrieving run status: {e}\")\n",
    "        return {\"status\": None, \"run\": None}\n",
    "\n",
    "def poll_run_status(client, thread_id, run_id):\n",
    "    while True:\n",
    "        result = get_run_status(client, thread_id, run_id)\n",
    "        status = result[\"status\"]\n",
    "        run = result[\"run\"]\n",
    "        if status in ['completed', 'cancelled', 'failed', 'requires_action']:\n",
    "            print(f\"Run has finished or requires action with status: {status}\")\n",
    "            break\n",
    "        else:\n",
    "            print(\"Run is not finished yet...\")\n",
    "            time.sleep(2)\n",
    "\n",
    "    return {\"status\": status, \"run\": run}"
   ]
  },
  {
   "cell_type": "code",
   "execution_count": 8,
   "metadata": {},
   "outputs": [
    {
     "name": "stdout",
     "output_type": "stream",
     "text": [
      "Run has finished or requires action with status: completed\n"
     ]
    }
   ],
   "source": [
    "result = poll_run_status(client=client, thread_id=thread.id, run_id=run.id)"
   ]
  },
  {
   "cell_type": "code",
   "execution_count": 9,
   "metadata": {},
   "outputs": [
    {
     "name": "stdout",
     "output_type": "stream",
     "text": [
      "Run(id='run_vmD0dWebLjYjQb9z5gc7RgbR', assistant_id='asst_ePaIeDp60QcWt20dkKAfI2k4', cancelled_at=None, completed_at=1706881014, created_at=1706881000, expires_at=None, failed_at=None, file_ids=['file-sh7beN6SYVBZTRvw6iVMt11x'], instructions='Please address the user as Jane Doe. The user has a premium account.', last_error=None, metadata={}, model='gpt-4-turbo-preview', object='thread.run', required_action=None, started_at=1706881000, status='completed', thread_id='thread_yp7ZhDA1FxWO5GBHf5TU3eXB', tools=[ToolAssistantToolsCode(type='code_interpreter'), ToolAssistantToolsRetrieval(type='retrieval')], usage=Usage(completion_tokens=129, prompt_tokens=1455, total_tokens=1584))\n"
     ]
    }
   ],
   "source": [
    "print(result[\"run\"])"
   ]
  },
  {
   "cell_type": "code",
   "execution_count": 10,
   "metadata": {},
   "outputs": [
    {
     "name": "stdout",
     "output_type": "stream",
     "text": [
      "[ThreadMessage(id='msg_t8FGw4dM7ht3Pey5WhU1TUpL', assistant_id='asst_ePaIeDp60QcWt20dkKAfI2k4', content=[MessageContentText(text=Text(annotations=[], value='Der effektive Jahreszins (APR) für persönliche Darlehen beginnt ab 4,5%. Bei Hypothekenoptionen variieren die Zinssätze je nach Produkt, wobei eine 30-jährige Festhypothek ab 3,75% verfügbar ist. Weitere detaillierte Angaben zu den Kosten spezifischer Darlehensformen sind in den bereitgestellten Informationen nicht enthalten.'), type='text')], created_at=1706881005, file_ids=[], metadata={}, object='thread.message', role='assistant', run_id='run_vmD0dWebLjYjQb9z5gc7RgbR', thread_id='thread_yp7ZhDA1FxWO5GBHf5TU3eXB'), ThreadMessage(id='msg_4KPqiJypljm2hDC2e25mU8Aw', assistant_id=None, content=[MessageContentText(text=Text(annotations=[], value='Wie viel kostet ein Darlehen pro Jahr?'), type='text')], created_at=1706880995, file_ids=[], metadata={}, object='thread.message', role='user', run_id=None, thread_id='thread_yp7ZhDA1FxWO5GBHf5TU3eXB')]\n"
     ]
    }
   ],
   "source": [
    "messages = client.beta.threads.messages.list(\n",
    "  thread_id=thread.id\n",
    ")\n",
    "print(messages.data)"
   ]
  },
  {
   "cell_type": "code",
   "execution_count": 11,
   "metadata": {},
   "outputs": [
    {
     "name": "stdout",
     "output_type": "stream",
     "text": [
      "Message: Der effektive Jahreszins (APR) für persönliche Darlehen beginnt ab 4,5%. Bei Hypothekenoptionen variieren die Zinssätze je nach Produkt, wobei eine 30-jährige Festhypothek ab 3,75% verfügbar ist. Weitere detaillierte Angaben zu den Kosten spezifischer Darlehensformen sind in den bereitgestellten Informationen nicht enthalten.\n",
      "Message: Wie viel kostet ein Darlehen pro Jahr?\n"
     ]
    }
   ],
   "source": [
    "for message in messages.data:\n",
    "    if message.content and message.content[0].text:\n",
    "        print(f\"Message: {message.content[0].text.value}\")"
   ]
  },
  {
   "cell_type": "markdown",
   "metadata": {},
   "source": [
    "### Function usage"
   ]
  },
  {
   "cell_type": "code",
   "execution_count": 12,
   "metadata": {},
   "outputs": [],
   "source": [
    "message = client.beta.threads.messages.create(\n",
    "    thread_id=thread.id, role=\"user\", content=\"Wie spät ist es?\"\n",
    ")"
   ]
  },
  {
   "cell_type": "code",
   "execution_count": 13,
   "metadata": {},
   "outputs": [],
   "source": [
    "run = client.beta.threads.runs.create(\n",
    "  thread_id=thread.id,\n",
    "  assistant_id=assistant.id,\n",
    "  instructions=\"Please address the user as Jane Doe. The user has a premium account.\",\n",
    ")"
   ]
  },
  {
   "cell_type": "code",
   "execution_count": 14,
   "metadata": {},
   "outputs": [],
   "source": [
    "run = client.beta.threads.runs.retrieve(thread_id=thread.id, run_id=run.id)"
   ]
  },
  {
   "cell_type": "code",
   "execution_count": 16,
   "metadata": {},
   "outputs": [
    {
     "name": "stdout",
     "output_type": "stream",
     "text": [
      "Run has finished or requires action with status: requires_action\n"
     ]
    }
   ],
   "source": [
    "result = poll_run_status(client=client, thread_id=thread.id, run_id=run.id)"
   ]
  },
  {
   "cell_type": "code",
   "execution_count": 17,
   "metadata": {},
   "outputs": [
    {
     "data": {
      "text/plain": [
       "[RequiredActionFunctionToolCall(id='call_UNgmQb0xFlfi9Ku5ZHvrxsN4', function=Function(arguments='{}', name='how_late'), type='function')]"
      ]
     },
     "execution_count": 17,
     "metadata": {},
     "output_type": "execute_result"
    }
   ],
   "source": [
    "run.required_action.submit_tool_outputs.tool_calls"
   ]
  },
  {
   "cell_type": "code",
   "execution_count": 21,
   "metadata": {},
   "outputs": [
    {
     "name": "stdout",
     "output_type": "stream",
     "text": [
      "Executing function: how_late\n",
      "Output from function call:  14:47:04\n"
     ]
    }
   ],
   "source": [
    "for tool_call in run.required_action.submit_tool_outputs.tool_calls:\n",
    "    tool_call_id = tool_call.id\n",
    "    function_name = tool_call.function.name\n",
    "    print(f\"Executing function: {function_name}\")\n",
    "\n",
    "    if function_name == \"get_opening_hours\":\n",
    "        output = get_opening_hours()\n",
    "    elif function_name == \"how_late\":\n",
    "        output = how_late()\n",
    "    else:\n",
    "        output = \"Function not recognized\"\n",
    "        print(\"Error: Function not recognized.\")\n",
    "    print(f\"Output from function call:  {output}\")\n",
    "        \n",
    "    client.beta.threads.runs.submit_tool_outputs(\n",
    "    thread_id=thread.id,\n",
    "    run_id=run.id,\n",
    "    tool_outputs=[\n",
    "        {\"tool_call_id\": tool_call_id, \"output\": output},\n",
    "    ])"
   ]
  },
  {
   "cell_type": "code",
   "execution_count": 23,
   "metadata": {},
   "outputs": [
    {
     "name": "stdout",
     "output_type": "stream",
     "text": [
      "14:47:04\n"
     ]
    }
   ],
   "source": [
    "print(output)"
   ]
  },
  {
   "cell_type": "code",
   "execution_count": 29,
   "metadata": {},
   "outputs": [
    {
     "name": "stdout",
     "output_type": "stream",
     "text": [
      "Message: Es ist jetzt 14:47 Uhr.\n",
      "Message: Wie spät ist es?\n",
      "Message: Der effektive Jahreszins (APR) für persönliche Darlehen beginnt ab 4,5%. Bei Hypothekenoptionen variieren die Zinssätze je nach Produkt, wobei eine 30-jährige Festhypothek ab 3,75% verfügbar ist. Weitere detaillierte Angaben zu den Kosten spezifischer Darlehensformen sind in den bereitgestellten Informationen nicht enthalten.\n",
      "Message: Wie viel kostet ein Darlehen pro Jahr?\n"
     ]
    }
   ],
   "source": [
    "for message in messages.data:\n",
    "    if message.content and message.content[0].text:\n",
    "        print(f\"Message: {message.content[0].text.value}\")"
   ]
  },
  {
   "cell_type": "markdown",
   "metadata": {},
   "source": [
    "### Delete everthing after using it!"
   ]
  },
  {
   "cell_type": "code",
   "execution_count": null,
   "metadata": {},
   "outputs": [],
   "source": [
    "# deleted_assistant_file = client.beta.assistants.files.delete(\n",
    "#     assistant_id=assistant.id,\n",
    "#     file_id=file.id\n",
    "# )\n",
    "# print(deleted_assistant_file)\n",
    "\n",
    "# response = client.beta.assistants.delete(assistant.id)\n",
    "# print(response)"
   ]
  }
 ],
 "metadata": {
  "kernelspec": {
   "display_name": ".venv",
   "language": "python",
   "name": "python3"
  },
  "language_info": {
   "codemirror_mode": {
    "name": "ipython",
    "version": 3
   },
   "file_extension": ".py",
   "mimetype": "text/x-python",
   "name": "python",
   "nbconvert_exporter": "python",
   "pygments_lexer": "ipython3",
   "version": "3.11.0"
  }
 },
 "nbformat": 4,
 "nbformat_minor": 2
}
